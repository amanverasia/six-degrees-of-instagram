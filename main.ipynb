{
 "cells": [
  {
   "cell_type": "code",
   "execution_count": null,
   "metadata": {},
   "outputs": [],
   "source": [
    "'''\n",
    "This script is written for minimal change and shall only be needed to run once.\n",
    "I have tried to divide this script into multiple files.\n",
    "'''\n",
    "import instaloader\n",
    "import os\n",
    "import time\n",
    "L = instaloader.Instaloader()\n",
    "USER = input('What is your username?\\n')\n",
    "\n",
    "# Your preferred way of logging in:\n",
    "try:\n",
    "\tL.load_session_from_file(USER)\n",
    "except:\n",
    "\tL.interactive_login(USER)\n"
   ]
  }
 ],
 "metadata": {
  "language_info": {
   "name": "python"
  },
  "orig_nbformat": 4
 },
 "nbformat": 4,
 "nbformat_minor": 2
}
