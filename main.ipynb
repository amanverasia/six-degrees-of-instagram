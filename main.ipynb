{
 "cells": [
  {
   "cell_type": "code",
   "execution_count": null,
   "metadata": {},
   "outputs": [],
   "source": [
    "'''\n",
    "This script is written for minimal change and shall only be needed to run once.\n",
    "I have tried to divide this script into multiple files.\n",
    "'''\n",
    "import instaloader\n",
    "import os\n",
    "import time\n",
    "L = instaloader.Instaloader()\n",
    "USER = input('What is your username?\\n')\n",
    "\n",
    "# Your preferred way of logging in:\n",
    "try:\n",
    "\tL.load_session_from_file(USER)\n",
    "except:\n",
    "\tL.interactive_login(USER)\n"
   ]
  }
 ],
 "metadata": {
  "kernelspec": {
   "display_name": "Python 3.10.6 64-bit",
   "language": "python",
   "name": "python3"
  },
  "language_info": {
   "name": "python",
   "version": "3.10.6"
  },
  "orig_nbformat": 4,
  "vscode": {
   "interpreter": {
    "hash": "b0fa6594d8f4cbf19f97940f81e996739fb7646882a419484c72d19e05852a7e"
   }
  }
 },
 "nbformat": 4,
 "nbformat_minor": 2
}
